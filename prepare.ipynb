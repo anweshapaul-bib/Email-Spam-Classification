{
 "cells": [
  {
   "cell_type": "code",
   "execution_count": 1,
   "metadata": {},
   "outputs": [
    {
     "name": "stderr",
     "output_type": "stream",
     "text": [
      "[nltk_data] Downloading package stopwords to\n",
      "[nltk_data]     /Users/paulanwesha01/nltk_data...\n",
      "[nltk_data]   Package stopwords is already up-to-date!\n",
      "[nltk_data] Downloading package punkt to\n",
      "[nltk_data]     /Users/paulanwesha01/nltk_data...\n",
      "[nltk_data]   Package punkt is already up-to-date!\n"
     ]
    },
    {
     "data": {
      "text/plain": [
       "True"
      ]
     },
     "execution_count": 1,
     "metadata": {},
     "output_type": "execute_result"
    }
   ],
   "source": [
    "import numpy as np\n",
    "import pandas as pd\n",
    "import matplotlib.pyplot as plt\n",
    "\n",
    "# Scikit-learn preprocessing\n",
    "from sklearn.preprocessing import LabelEncoder\n",
    "from sklearn.feature_extraction.text import CountVectorizer, TfidfVectorizer\n",
    "\n",
    "# NLTK\n",
    "import nltk\n",
    "from nltk.corpus import stopwords\n",
    "from nltk.tokenize import word_tokenize\n",
    "from nltk.stem import PorterStemmer\n",
    "from nltk.stem.porter import PorterStemmer\n",
    "\n",
    "# Visualization\n",
    "import seaborn as sns\n",
    "\n",
    "# String module\n",
    "import string\n",
    "\n",
    "import os\n",
    "\n",
    "nltk.download('stopwords')\n",
    "nltk.download('punkt')"
   ]
  },
  {
   "cell_type": "code",
   "execution_count": 2,
   "metadata": {},
   "outputs": [],
   "source": [
    "def load_data(csv_file):\n",
    "\n",
    "    try:\n",
    "        df = pd.read_csv(csv_file)\n",
    "\n",
    "        print(\"Sample of 5 rows from the DataFrame:\")\n",
    "        print(df.sample(5))\n",
    "        \n",
    "        print(\"\\nShape of the DataFrame:\", df.shape)\n",
    "\n",
    "        return df\n",
    "        \n",
    "    except (FileNotFoundError, pd.errors.EmptyDataError, pd.errors.ParserError) as e:\n",
    "        print(f\"Error: {e}\")\n"
   ]
  },
  {
   "cell_type": "code",
   "execution_count": 3,
   "metadata": {},
   "outputs": [],
   "source": [
    "def data_cleaning(df):\n",
    "\n",
    "    # Encode the 'spam' column using LabelEncoder\n",
    "    encoder = LabelEncoder()\n",
    "    df['spam'] = encoder.fit_transform(df['spam'])\n",
    "\n",
    "    # Check for missing values and print their sums\n",
    "    print(\"Missing values:\\n\", df.isnull().sum())\n",
    "\n",
    "    # Check for duplicate rows, print their sum, and remove duplicates\n",
    "    print(\"\\nDuplicate rows:\", df.duplicated().sum())\n",
    "    df = df.drop_duplicates(keep='first')\n",
    "\n",
    "    # Print the shape of the DataFrame after cleaning\n",
    "    print(\"Shape of the DataFrame after cleaning:\", df.shape)\n",
    "\n",
    "    return df"
   ]
  },
  {
   "cell_type": "code",
   "execution_count": 4,
   "metadata": {},
   "outputs": [],
   "source": [
    "def EDA(df):\n",
    "\n",
    "    # Tokenize the input text using nltk's word_tokenize.\n",
    "    def tokenize_text(text):\n",
    "\n",
    "        return nltk.word_tokenize(text)\n",
    "\n",
    "    # Apply stemming to a list of tokens using PorterStemmer.\n",
    "    def stem_text(tokens):\n",
    "        ps = PorterStemmer()\n",
    "\n",
    "        return [ps.stem(token) for token in tokens]\n",
    "\n",
    "    # Calculate the number of characters in the input text.\n",
    "    def calculate_num_characters(text):\n",
    "\n",
    "        return len(text)\n",
    "\n",
    "    # Calculate the number of words in the input text.\n",
    "    def calculate_num_words(text):\n",
    "\n",
    "        return len(tokenize_text(text))\n",
    "\n",
    "    # Calculate the number of sentences in the input text.\n",
    "    def calculate_num_sentences(text):\n",
    "\n",
    "        return len(nltk.sent_tokenize(text))\n",
    "\n",
    "    def visualize_distribution(df, column, xlabel):\n",
    "\n",
    "        plt.figure(figsize=(8, 4))\n",
    "\n",
    "        sns.histplot(df[df['spam'] == 0][column], label='Non-Spam', color='steelblue', alpha=0.7)\n",
    "        sns.histplot(df[df['spam'] == 1][column], label='Spam', color='red', alpha=0.7)\n",
    "\n",
    "        plt.legend()\n",
    "        plt.xlabel(xlabel)\n",
    "        plt.ylabel('Frequency')\n",
    "        plt.title(f'Distribution of {xlabel} in Spam and Non-Spam Emails')\n",
    "        \n",
    "        plt.show()\n",
    "\n",
    "    try:\n",
    "        # Tokenize and stem the text column\n",
    "        df['tokens'] = df['text'].apply(tokenize_text)\n",
    "        df['stemmed_tokens'] = df['tokens'].apply(stem_text)\n",
    "        \n",
    "        # Calculate number of characters, words, and sentences\n",
    "        df['num_characters'] = df['text'].apply(calculate_num_characters)\n",
    "        df['num_words'] = df['text'].apply(calculate_num_words)\n",
    "        df['num_sentences'] = df['text'].apply(calculate_num_sentences)\n",
    "        \n",
    "        # Display descriptive statistics\n",
    "        print(\"\\nOverall Descriptive Statistics:\")\n",
    "        print(df[['num_characters', 'num_words', 'num_sentences']].describe())\n",
    "        \n",
    "        print(\"\\nDescriptive Statistics for Non-Spam Emails:\")\n",
    "        print(df[df['spam'] == 0][['num_characters', 'num_words', 'num_sentences']].describe())\n",
    "        \n",
    "        print(\"\\nDescriptive Statistics for Spam Emails:\")\n",
    "        print(df[df['spam'] == 1][['num_characters', 'num_words', 'num_sentences']].describe())\n",
    "        \n",
    "        # Visualize distributions\n",
    "        visualize_distribution(df, 'num_characters', \"Number of Characters\")\n",
    "        visualize_distribution(df, 'num_words', \"Number of Words\")\n",
    "        visualize_distribution(df, 'num_sentences', \"Number of Sentences\")\n",
    "        \n",
    "    except Exception as e:\n",
    "        print(f\"Error occurred during EDA: {e}\")\n"
   ]
  },
  {
   "cell_type": "code",
   "execution_count": 5,
   "metadata": {},
   "outputs": [],
   "source": [
    "def data_preprocessing(df):\n",
    "    ps = PorterStemmer()\n",
    "\n",
    "    def transform_text(text):\n",
    "        # Convert text to lowercase\n",
    "        text = text.lower()\n",
    "\n",
    "        # Tokenize the text\n",
    "        text = nltk.word_tokenize(text)\n",
    "\n",
    "        y = [i for i in text if i.isalnum()]\n",
    "\n",
    "        text = y[:]\n",
    "        y.clear()\n",
    "\n",
    "        # Filter out stopwords and punctuation\n",
    "        for i in text:\n",
    "            if i not in stopwords.words('english') and i not in string.punctuation:\n",
    "                y.append(i)\n",
    "\n",
    "        text = y[:]\n",
    "        y.clear()\n",
    "\n",
    "        # Apply stemming\n",
    "        for i in text:\n",
    "            y.append(ps.stem(i))\n",
    "\n",
    "        return \" \".join(y)\n",
    "\n",
    "    df['transformed_text'] = df['text'].apply(transform_text)\n",
    "    return df\n"
   ]
  },
  {
   "cell_type": "markdown",
   "metadata": {},
   "source": [
    "**NOTE:** Functions for train-test split or train-validation-test split are defined as nested functions within relevant functions in train.ipynb."
   ]
  },
  {
   "cell_type": "code",
   "execution_count": null,
   "metadata": {},
   "outputs": [],
   "source": []
  }
 ],
 "metadata": {
  "kernelspec": {
   "display_name": "Python 3",
   "language": "python",
   "name": "python3"
  },
  "language_info": {
   "codemirror_mode": {
    "name": "ipython",
    "version": 3
   },
   "file_extension": ".py",
   "mimetype": "text/x-python",
   "name": "python",
   "nbconvert_exporter": "python",
   "pygments_lexer": "ipython3",
   "version": "3.9.6"
  }
 },
 "nbformat": 4,
 "nbformat_minor": 2
}
